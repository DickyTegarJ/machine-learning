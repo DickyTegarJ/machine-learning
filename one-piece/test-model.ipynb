{
  "nbformat": 4,
  "nbformat_minor": 0,
  "metadata": {
    "colab": {
      "provenance": []
    },
    "kernelspec": {
      "name": "python3",
      "display_name": "Python 3"
    },
    "language_info": {
      "name": "python"
    }
  },
  "cells": [
    {
      "cell_type": "code",
      "execution_count": null,
      "metadata": {
        "id": "snnNirNBTl8z",
        "colab": {
          "base_uri": "https://localhost:8080/"
        },
        "outputId": "59eb161f-267f-4f5f-bf9c-f3e5779809b4"
      },
      "outputs": [
        {
          "output_type": "stream",
          "name": "stdout",
          "text": [
            "mkdir: cannot create directory ‘.kaggle’: File exists\n",
            "Downloading one-piece-image-classifier.zip to /content\n",
            " 99% 2.52G/2.53G [00:27<00:00, 81.7MB/s]\n",
            "100% 2.53G/2.53G [00:28<00:00, 97.0MB/s]\n"
          ]
        }
      ],
      "source": [
        "! pip install -q kaggle\n",
        "!mkdir .kaggle\n",
        "! cp 'kaggle.json' ~/.kaggle/\n",
        "! chmod 600 ~/.kaggle/'kaggle.json'\n",
        "! kaggle datasets download -d 'ibrahimserouis99/one-piece-image-classifier'"
      ]
    },
    {
      "cell_type": "code",
      "source": [
        "import zipfile\n",
        "import os\n",
        "import tensorflow as tf\n",
        "from tensorflow import keras\n",
        "from keras.preprocessing.image import ImageDataGenerator"
      ],
      "metadata": {
        "id": "vxirVk1Vc5Mk"
      },
      "execution_count": null,
      "outputs": []
    },
    {
      "cell_type": "code",
      "source": [
        "dataset_zip = zipfile.ZipFile('one-piece-image-classifier.zip')\n",
        "dataset_zip.extractall()\n",
        "dataset_zip.close()"
      ],
      "metadata": {
        "id": "LpgEnkkadHNQ"
      },
      "execution_count": null,
      "outputs": []
    },
    {
      "cell_type": "code",
      "source": [
        "import os\n",
        "dataset_dir = \"Data/Data\"\n",
        "print(os.listdir(dataset_dir))"
      ],
      "metadata": {
        "colab": {
          "base_uri": "https://localhost:8080/"
        },
        "id": "xpc4K2fRd2Cw",
        "outputId": "b526ce85-f957-4144-c086-b109c2f13128"
      },
      "execution_count": null,
      "outputs": [
        {
          "output_type": "stream",
          "name": "stdout",
          "text": [
            "['Robin', 'Crocodile', 'Jinbei', 'Usopp', 'Rayleigh', 'Franky', 'Akainu', 'Nami', 'Mihawk', 'Brook', 'Chopper', 'Kurohige', 'Ace', 'Luffy', 'Law', 'Zoro', 'Sanji', 'Shanks']\n"
          ]
        }
      ]
    },
    {
      "cell_type": "code",
      "source": [
        "data_generator = ImageDataGenerator(\n",
        "    rescale = 1./255,\n",
        "    horizontal_flip = True,\n",
        "    vertical_flip = True\n",
        ")"
      ],
      "metadata": {
        "id": "9UJ2tVK9eDpG"
      },
      "execution_count": null,
      "outputs": []
    },
    {
      "cell_type": "code",
      "source": [
        "training = data_generator.flow_from_directory(\n",
        "    dataset_dir, target_size = (90,90),\n",
        "    batch_size = 20,\n",
        "    class_mode = 'categorical'\n",
        ")"
      ],
      "metadata": {
        "colab": {
          "base_uri": "https://localhost:8080/"
        },
        "id": "fB2KnNAwekYu",
        "outputId": "33508286-2424-496f-fbe7-54bda93ef3ec"
      },
      "execution_count": null,
      "outputs": [
        {
          "output_type": "stream",
          "name": "stdout",
          "text": [
            "Found 11737 images belonging to 18 classes.\n"
          ]
        }
      ]
    },
    {
      "cell_type": "code",
      "source": [
        "print(training.class_indices)"
      ],
      "metadata": {
        "id": "1hfq0zonnskx",
        "outputId": "f75f95ca-20f0-4871-f3ef-a49c24c41aa0",
        "colab": {
          "base_uri": "https://localhost:8080/"
        }
      },
      "execution_count": null,
      "outputs": [
        {
          "output_type": "stream",
          "name": "stdout",
          "text": [
            "{'Ace': 0, 'Akainu': 1, 'Brook': 2, 'Chopper': 3, 'Crocodile': 4, 'Franky': 5, 'Jinbei': 6, 'Kurohige': 7, 'Law': 8, 'Luffy': 9, 'Mihawk': 10, 'Nami': 11, 'Rayleigh': 12, 'Robin': 13, 'Sanji': 14, 'Shanks': 15, 'Usopp': 16, 'Zoro': 17}\n"
          ]
        }
      ]
    },
    {
      "cell_type": "code",
      "source": [
        "model = tf.keras.models.Sequential ([\n",
        "    tf.keras.layers.Conv2D(32, (3,3), activation='relu', input_shape=(90,90,3)),\n",
        "    tf.keras.layers.MaxPooling2D(2,2),\n",
        "    tf.keras.layers.Conv2D(64, (3,3), activation='relu', input_shape=(90,90,3)),\n",
        "    tf.keras.layers.MaxPooling2D(2,2),\n",
        "    tf.keras.layers.Flatten(),\n",
        "    tf.keras.layers.Dense(128, activation = 'relu'),\n",
        "    tf.keras.layers.Dense(18, activation = 'softmax')\n",
        "])"
      ],
      "metadata": {
        "id": "u0FjNUpYfI5D"
      },
      "execution_count": null,
      "outputs": []
    },
    {
      "cell_type": "code",
      "source": [
        "model.compile (\n",
        "    loss = 'categorical_crossentropy',\n",
        "    metrics = ['acc'],\n",
        "    optimizer = 'adam'\n",
        ")"
      ],
      "metadata": {
        "id": "o3KErh3rgZbF"
      },
      "execution_count": null,
      "outputs": []
    },
    {
      "cell_type": "code",
      "source": [
        "model.fit(\n",
        "    training,\n",
        "    epochs = 5\n",
        "          )"
      ],
      "metadata": {
        "colab": {
          "base_uri": "https://localhost:8080/"
        },
        "id": "CX8b84B8hjYr",
        "outputId": "ec371c31-51e6-4c92-ba5b-7f22117d9b25"
      },
      "execution_count": null,
      "outputs": [
        {
          "output_type": "stream",
          "name": "stdout",
          "text": [
            "Epoch 1/5\n",
            "587/587 [==============================] - 236s 402ms/step - loss: 1.9957 - acc: 0.3943\n",
            "Epoch 2/5\n",
            "587/587 [==============================] - 216s 367ms/step - loss: 1.5555 - acc: 0.5383\n",
            "Epoch 3/5\n",
            "587/587 [==============================] - 210s 358ms/step - loss: 1.2342 - acc: 0.6389\n",
            "Epoch 4/5\n",
            "587/587 [==============================] - 210s 357ms/step - loss: 1.0059 - acc: 0.7052\n",
            "Epoch 5/5\n",
            "587/587 [==============================] - 207s 352ms/step - loss: 0.8065 - acc: 0.7692\n"
          ]
        },
        {
          "output_type": "execute_result",
          "data": {
            "text/plain": [
              "<keras.src.callbacks.History at 0x7c57b8333b80>"
            ]
          },
          "metadata": {},
          "execution_count": 15
        }
      ]
    },
    {
      "cell_type": "code",
      "source": [
        "model.save('one-piece-classifier.h5')"
      ],
      "metadata": {
        "id": "UF66c5hchqAC",
        "outputId": "bff01591-fef2-4a07-dc68-b5a4d1e127eb",
        "colab": {
          "base_uri": "https://localhost:8080/",
          "height": 298
        }
      },
      "execution_count": null,
      "outputs": [
        {
          "output_type": "error",
          "ename": "NameError",
          "evalue": "name 'model' is not defined",
          "traceback": [
            "\u001b[0;31m---------------------------------------------------------------------------\u001b[0m",
            "\u001b[0;31mNameError\u001b[0m                                 Traceback (most recent call last)",
            "\u001b[0;32m<ipython-input-1-1482bef1dbb3>\u001b[0m in \u001b[0;36m<cell line: 1>\u001b[0;34m()\u001b[0m\n\u001b[0;32m----> 1\u001b[0;31m \u001b[0mmodel\u001b[0m\u001b[0;34m.\u001b[0m\u001b[0msave\u001b[0m\u001b[0;34m(\u001b[0m\u001b[0;34m'one-piece-classifier.h5'\u001b[0m\u001b[0;34m)\u001b[0m\u001b[0;34m\u001b[0m\u001b[0;34m\u001b[0m\u001b[0m\n\u001b[0m",
            "\u001b[0;31mNameError\u001b[0m: name 'model' is not defined"
          ]
        }
      ]
    },
    {
      "cell_type": "code",
      "source": [],
      "metadata": {
        "id": "KzSWLoNTjKXN"
      },
      "execution_count": null,
      "outputs": []
    }
  ]
}